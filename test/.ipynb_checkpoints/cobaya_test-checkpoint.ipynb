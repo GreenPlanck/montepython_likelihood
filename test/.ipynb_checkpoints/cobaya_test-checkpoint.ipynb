{
 "cells": [
  {
   "cell_type": "code",
   "execution_count": 1,
   "id": "3ce8e224-54b9-4dad-9285-46fd5735f362",
   "metadata": {},
   "outputs": [],
   "source": [
    "from cobaya import get_model"
   ]
  },
  {
   "cell_type": "code",
   "execution_count": 2,
   "id": "2bdfa2e1-d1b9-413e-92dc-bbe9d8c7be90",
   "metadata": {},
   "outputs": [],
   "source": [
    "# random_point = mode.prior.sample(ignore_external=True)[0]\n",
    "# sampled_params_names = mode.parameterization.sampled_params()\n",
    "# random_point_dict = dict(zip(sampled_params_names, random_point))\n",
    "# random_point_dict"
   ]
  },
  {
   "cell_type": "code",
   "execution_count": 3,
   "id": "3632935d-d0a2-464b-81de-a96efb8b4ea4",
   "metadata": {},
   "outputs": [],
   "source": [
    "params = {'logA': 3.044,\n",
    " 'n_s': 0.965,\n",
    " 'h': 0.675,\n",
    " 'omega_b': 0.02235,\n",
    " 'omega_cdm': 0.120,\n",
    " 'tau_reio': 0.0543}"
   ]
  },
  {
   "cell_type": "code",
   "execution_count": 4,
   "id": "4cd27ae0-28ab-4eff-8761-49e1d140e1d5",
   "metadata": {},
   "outputs": [
    {
     "name": "stdout",
     "output_type": "stream",
     "text": [
      "[model] *WARNING* Ignored blocks/options: ['sampler', 'output']\n",
      "[classy] `classy` module loaded successfully from /Users/zhiyulu/Install/anaconda3/lib/python3.11/site-packages/classy-3.2.3-py3.11-macosx-11.0-arm64.egg\n"
     ]
    },
    {
     "data": {
      "text/plain": [
       "LogPosterior(logpost=-699.1503656049852, logpriors=[2.7894037928589683], loglikes=array([-701.9397694]), derived=[2.0989031673191437e-09, 0.31384172488986367, 0.14299413590294416, 0.6860787971858595, 0.2453874077290285, 7.6847991943359375, 0.8112613657130552, 0.9874358889633077, 0.4544814222007866, 0.6072093702058802, 2.098903167319144, 1.8829033242359754, 13.785194922202804, 147.11897893510294, 1403.8795387956882], finite=False)"
      ]
     },
     "execution_count": 4,
     "metadata": {},
     "output_type": "execute_result"
    }
   ],
   "source": [
    "mode=get_model('1.yaml')\n",
    "mode.logposterior(params)"
   ]
  },
  {
   "cell_type": "code",
   "execution_count": 5,
   "id": "79ca5b0e-83c5-4a31-8eab-9448591817f0",
   "metadata": {},
   "outputs": [
    {
     "name": "stdout",
     "output_type": "stream",
     "text": [
      "[model] *WARNING* Ignored blocks/options: ['sampler', 'output']\n",
      "[classy] `classy` module loaded successfully from /Users/zhiyulu/Install/anaconda3/lib/python3.11/site-packages/classy-3.2.3-py3.11-macosx-11.0-arm64.egg\n"
     ]
    },
    {
     "data": {
      "text/plain": [
       "LogPosterior(logpost=-10.480994379786488, logpriors=[2.7894037928589683], loglikes=array([-13.27039817]), derived=[2.0989031673191437e-09, 0.31384172488986367, 0.14299413590294416, 0.6860787971858595, 0.2453874077290285, 7.6847991943359375, 0.8112613657130552, 0.9874358889633077, 0.4544814222007866, 0.6072093702058802, 2.098903167319144, 1.8829033242359754, 13.785194922202804, 147.11897893510294, 26.54079634529091], finite=False)"
      ]
     },
     "execution_count": 5,
     "metadata": {},
     "output_type": "execute_result"
    }
   ],
   "source": [
    "mode=get_model('2.yaml')\n",
    "mode.logposterior(params)"
   ]
  },
  {
   "cell_type": "code",
   "execution_count": 6,
   "id": "cac5e7de-d278-41a3-91a1-823cd85b7763",
   "metadata": {},
   "outputs": [
    {
     "name": "stdout",
     "output_type": "stream",
     "text": [
      "[model] *WARNING* Ignored blocks/options: ['sampler', 'output']\n",
      "[classy] `classy` module loaded successfully from /Users/zhiyulu/Install/anaconda3/lib/python3.11/site-packages/classy-3.2.3-py3.11-macosx-11.0-arm64.egg\n"
     ]
    },
    {
     "data": {
      "text/plain": [
       "LogPosterior(logpost=-819.9368887907567, logpriors=[2.7894037928589683], loglikes=array([-822.72629258]), derived=[2.0989031673191437e-09, 0.31384172488986367, 0.14299413590294416, 0.6860787971858595, 0.2453874077290285, 7.6847991943359375, 0.8112613657130552, 0.9874358889633077, 0.4544814222007866, 0.6072093702058802, 2.098903167319144, 1.8829033242359754, 13.785194922202804, 147.11897893510294, 1645.4525851672313], finite=False)"
      ]
     },
     "execution_count": 6,
     "metadata": {},
     "output_type": "execute_result"
    }
   ],
   "source": [
    "mode=get_model('3.yaml')\n",
    "mode.logposterior(params)"
   ]
  },
  {
   "cell_type": "code",
   "execution_count": null,
   "id": "ae285cce-4712-4962-a080-6e52d7411b9b",
   "metadata": {},
   "outputs": [],
   "source": [
    "# python $montepy run --conf ../class.conf -f 0 -N 1 -p 3.param -o chain/3"
   ]
  }
 ],
 "metadata": {
  "kernelspec": {
   "display_name": "Python 3 (ipykernel)",
   "language": "python",
   "name": "python3"
  },
  "language_info": {
   "codemirror_mode": {
    "name": "ipython",
    "version": 3
   },
   "file_extension": ".py",
   "mimetype": "text/x-python",
   "name": "python",
   "nbconvert_exporter": "python",
   "pygments_lexer": "ipython3",
   "version": "3.11.8"
  }
 },
 "nbformat": 4,
 "nbformat_minor": 5
}
